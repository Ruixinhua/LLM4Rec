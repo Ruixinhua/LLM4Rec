{
 "cells": [
  {
   "cell_type": "code",
   "execution_count": 2,
   "id": "initial_id",
   "metadata": {
    "collapsed": true,
    "ExecuteTime": {
     "end_time": "2023-10-10T21:09:33.191390600Z",
     "start_time": "2023-10-10T21:09:33.175883400Z"
    }
   },
   "outputs": [],
   "source": [
    "import os\n",
    "import pandas as pd"
   ]
  },
  {
   "cell_type": "code",
   "execution_count": 14,
   "outputs": [],
   "source": [
    "result_df = []\n",
    "sample_num = \"1000\"\n",
    "for file in os.listdir('result'):\n",
    "    if file.endswith('.csv') and sample_num in file:\n",
    "        df = pd.read_csv('result/' + file)\n",
    "        values = [file.split('_')[2]]\n",
    "        values.extend(df[df.columns[1]].values)\n",
    "        result_df.append(values)"
   ],
   "metadata": {
    "collapsed": false,
    "ExecuteTime": {
     "end_time": "2023-10-10T21:17:52.108382800Z",
     "start_time": "2023-10-10T21:17:52.087386300Z"
    }
   },
   "id": "ba19f96aac2ac718"
  },
  {
   "cell_type": "code",
   "execution_count": 15,
   "outputs": [],
   "source": [
    "result_df = pd.DataFrame(result_df, columns=['model', \"nDCG@5\", \"nDCG@10\", \"MRR\"])"
   ],
   "metadata": {
    "collapsed": false,
    "ExecuteTime": {
     "end_time": "2023-10-10T21:17:52.314133400Z",
     "start_time": "2023-10-10T21:17:52.310134Z"
    }
   },
   "id": "dad3d224ed9e34cf"
  },
  {
   "cell_type": "code",
   "execution_count": 17,
   "outputs": [],
   "source": [
    "result_df.to_csv('result/result.csv', index=False)"
   ],
   "metadata": {
    "collapsed": false,
    "ExecuteTime": {
     "end_time": "2023-10-10T21:18:56.226384Z",
     "start_time": "2023-10-10T21:18:56.198387500Z"
    }
   },
   "id": "ba9dadc1a4dc75c2"
  },
  {
   "cell_type": "code",
   "execution_count": null,
   "outputs": [],
   "source": [],
   "metadata": {
    "collapsed": false
   },
   "id": "bf513de84b746dad"
  }
 ],
 "metadata": {
  "kernelspec": {
   "display_name": "Python 3",
   "language": "python",
   "name": "python3"
  },
  "language_info": {
   "codemirror_mode": {
    "name": "ipython",
    "version": 2
   },
   "file_extension": ".py",
   "mimetype": "text/x-python",
   "name": "python",
   "nbconvert_exporter": "python",
   "pygments_lexer": "ipython2",
   "version": "2.7.6"
  }
 },
 "nbformat": 4,
 "nbformat_minor": 5
}
