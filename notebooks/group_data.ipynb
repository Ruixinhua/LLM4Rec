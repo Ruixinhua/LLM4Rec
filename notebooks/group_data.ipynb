{
 "cells": [
  {
   "cell_type": "code",
   "execution_count": 1,
   "id": "initial_id",
   "metadata": {
    "collapsed": true,
    "ExecuteTime": {
     "end_time": "2023-11-28T16:12:39.555380Z",
     "start_time": "2023-11-28T16:12:38.844375400Z"
    }
   },
   "outputs": [],
   "source": [
    "import pandas as pd\n"
   ]
  },
  {
   "cell_type": "code",
   "execution_count": 6,
   "outputs": [
    {
     "name": "stdout",
     "output_type": "stream",
     "text": [
      "Length of valid behavior:  36576\n"
     ]
    }
   ],
   "source": [
    "news_df = pd.read_csv(r\"C:\\Users\\Rui\\Documents\\Explainable_AI\\ExplainableNRS\\dataset\\MIND\\small\\news.csv\")\n",
    "test_behavior = pd.read_csv(\n",
    "    r\"C:\\Users\\Rui\\Documents\\Explainable_AI\\ExplainableNRS\\dataset\\MIND\\small\\test\\behaviors.tsv\", sep=\"\\t\",\n",
    "    header=None, names=[\"impression_id\", \"user_id\", \"time\", \"history\", \"candidate\"])\n",
    "valid_behavior = pd.read_csv(\n",
    "    r\"C:\\Users\\Rui\\Documents\\Explainable_AI\\ExplainableNRS\\dataset\\MIND\\small\\valid\\behaviors.tsv\", sep=\"\\t\",\n",
    "    header=None, names=[\"impression_id\", \"user_id\", \"time\", \"history\", \"candidate\"])\n",
    "print(\"Length of valid behavior: \", len(test_behavior))"
   ],
   "metadata": {
    "collapsed": false,
    "ExecuteTime": {
     "end_time": "2023-11-28T16:32:23.660143300Z",
     "start_time": "2023-11-28T16:32:18.549522700Z"
    }
   },
   "id": "efcdcdf360e3a753"
  },
  {
   "cell_type": "code",
   "execution_count": 102,
   "outputs": [
    {
     "data": {
      "text/plain": "Index(['news_id', 'category', 'subvert', 'title', 'abstract', 'url', 'entity',\n       'ab_entity', 'body'],\n      dtype='object')"
     },
     "execution_count": 102,
     "metadata": {},
     "output_type": "execute_result"
    }
   ],
   "source": [
    "news_df.columns"
   ],
   "metadata": {
    "collapsed": false,
    "ExecuteTime": {
     "end_time": "2023-11-28T23:19:41.313755700Z",
     "start_time": "2023-11-28T23:19:41.278218600Z"
    }
   },
   "id": "490f4dbfbbf451d"
  },
  {
   "cell_type": "code",
   "execution_count": 3,
   "outputs": [],
   "source": [
    "news_topic = dict(zip(news_df.news_id.tolist(), news_df.category.tolist()))"
   ],
   "metadata": {
    "collapsed": false,
    "ExecuteTime": {
     "end_time": "2023-11-28T16:25:31.862446600Z",
     "start_time": "2023-11-28T16:25:31.837899800Z"
    }
   },
   "id": "c7452c1d7036c11a"
  },
  {
   "cell_type": "code",
   "execution_count": 39,
   "outputs": [],
   "source": [
    "def topic_matching(history, candidate, news_topic_mapper):\n",
    "    clicked_topic = set([news_topic_mapper[news_id.split(\"-\")[0]] for news_id in candidate.split(\" \") if int(news_id.split(\"-\")[1])])\n",
    "    for news_id in history.split(\" \"):\n",
    "        n_topic = news_topic_mapper.get(news_id, \"\")\n",
    "        if n_topic in clicked_topic:\n",
    "            return 1\n",
    "    return 0\n",
    "\n",
    "# cold-user, short candidate list, topic-matching\n",
    "def group_user(behavior_df, news_topic_mapper):\n",
    "    behavior_df = behavior_df.fillna(\" \")\n",
    "    behavior_df[\"history_count\"] = behavior_df[\"history\"].apply(lambda x: len(x.split(\" \")) if x != \" \" else 0)\n",
    "    behavior_df[\"candidate_count\"] = behavior_df[\"candidate\"].apply(lambda x: len(x.split(\" \")) if x != \" \" else 0)\n",
    "    # topic_matching\n",
    "    behavior_df[\"topic_matching\"] = behavior_df.apply(lambda x: topic_matching(x[\"history\"], x[\"candidate\"], news_topic_mapper), axis=1)\n",
    "    return behavior_df \n"
   ],
   "metadata": {
    "collapsed": false,
    "ExecuteTime": {
     "end_time": "2023-11-28T18:43:53.588276200Z",
     "start_time": "2023-11-28T18:43:53.575527700Z"
    }
   },
   "id": "66844cb480b457ac"
  },
  {
   "cell_type": "code",
   "execution_count": 105,
   "outputs": [],
   "source": [
    "from itertools import product\n",
    "def sample_group_user(behavior_df, sample_num, **kwargs):\n",
    "    behavior_df = behavior_df[behavior_df.topic_matching == kwargs.get(\"topic_matching\", 1)]\n",
    "    sample_df = pd.DataFrame()\n",
    "    history_count = kwargs.get(\"history_count\", range(1, 11))\n",
    "    candidate_count = kwargs.get(\"candidate_count\", range(2, 12))\n",
    "    sample_method = kwargs.get(\"sample_method\", \"random\")\n",
    "    if sample_method == \"random\":\n",
    "        behavior_df = behavior_df[(min(history_count) <= behavior_df.history_count) & (behavior_df.history_count <= max(history_count))]\n",
    "        behavior_df = behavior_df[(min(candidate_count) <= behavior_df.candidate_count) & (behavior_df.candidate_count <= max(candidate_count))]\n",
    "        sample_df = behavior_df.sample(sample_num)\n",
    "    else:\n",
    "        num = int(sample_num / (len(history_count) * len(candidate_count)))\n",
    "        for (h, c) in product(history_count, candidate_count):\n",
    "            print(h, c, len(behavior_df[(behavior_df.history_count == h) & (behavior_df.candidate_count == c)]))\n",
    "            df = behavior_df[(behavior_df.history_count == h) & (behavior_df.candidate_count == c)].sample(num)\n",
    "            sample_df = pd.concat([sample_df, df])\n",
    "    return sample_df\n"
   ],
   "metadata": {
    "collapsed": false,
    "ExecuteTime": {
     "end_time": "2023-11-28T23:30:05.444911600Z",
     "start_time": "2023-11-28T23:30:05.436288500Z"
    }
   },
   "id": "7d953ee2080c98b0"
  },
  {
   "cell_type": "code",
   "execution_count": 153,
   "outputs": [],
   "source": [
    "import numpy as np\n",
    "from collections import defaultdict\n",
    "def load_news_info(news_ids):\n",
    "    news_info = defaultdict(list)\n",
    "    for news_id in news_ids:\n",
    "        news_info[\"news_id\"].append(news_id)\n",
    "        news_info[\"title\"].append(news_df[news_df['news_id'] == news_id]['title'].values[0])\n",
    "        news_info[\"category\"].append(news_df[news_df['news_id'] == news_id]['category'].values[0])\n",
    "        news_info[\"subvert\"].append(news_df[news_df['news_id'] == news_id]['subvert'].values[0])\n",
    "        news_info[\"abstract\"].append(news_df[news_df['news_id'] == news_id]['abstract'].values[0])\n",
    "    return news_info\n",
    "\n",
    "def get_history_candidate_info(line, shuffle=False):\n",
    "    history_news = load_news_info(line[\"history\"].split())\n",
    "    history_news = {f\"history_{k}\": v for k, v in history_news.items()}\n",
    "    candidate_split = line[\"candidate\"].split()\n",
    "    if shuffle:\n",
    "        np.random.shuffle(candidate_split)\n",
    "    cand_news_index = [i.split(\"-\")[0] for i in candidate_split]\n",
    "    candidate_news = load_news_info(cand_news_index)\n",
    "    candidate_news = {f\"candidate_{k}\": v for k, v in candidate_news.items()}\n",
    "    cand_label = [i for i, l in enumerate(candidate_split) if int(l.split(\"-\")[1])]\n",
    "    return history_news, candidate_news, cand_label\n"
   ],
   "metadata": {
    "collapsed": false,
    "ExecuteTime": {
     "end_time": "2023-11-29T00:56:23.038036100Z",
     "start_time": "2023-11-29T00:56:23.019171300Z"
    }
   },
   "id": "5e2d9b5a3ac58fd7"
  },
  {
   "cell_type": "code",
   "execution_count": 160,
   "outputs": [],
   "source": [
    "import os\n",
    "num_per_group = 100\n",
    "test_group_root = \"test_group/\"\n",
    "os.makedirs(test_group_root, exist_ok=True)\n",
    "test_groups1 = {\n",
    "    \"cold_user_short_candidate_match_topic\": {\"history_count\": range(1, 6), \"candidate_count\": range(5, 16), \"topic_matching\": 1},\n",
    "    \"non_cold_user_short_candidate_match_topic\": {\"history_count\": range(6, 26), \"candidate_count\": range(5, 16), \"topic_matching\": 1},\n",
    "    \"cold_user_short_candidate_not_match_topic\": {\"history_count\": range(1, 6), \"candidate_count\": range(5, 16), \"topic_matching\": 0},\n",
    "    \"non_cold_user_short_candidate_not_match_topic\": {\"history_count\": range(6, 26), \"candidate_count\": range(5, 16), \"topic_matching\": 0},\n",
    "    \"cold_user_long_candidate_match_topic\": {\"history_count\": range(1, 6), \"candidate_count\": range(16, 26), \"topic_matching\": 1},\n",
    "    \"non_cold_user_long_candidate_match_topic\": {\"history_count\": range(6, 26), \"candidate_count\": range(16, 26), \"topic_matching\": 1},\n",
    "    \"cold_user_long_candidate_not_match_topic\": {\"history_count\": range(1, 6), \"candidate_count\": range(16, 26), \"topic_matching\": 0},\n",
    "    \"non_cold_user_long_candidate_not_match_topic\": {\"history_count\": range(6, 26), \"candidate_count\": range(16, 26), \"topic_matching\": 0},\n",
    "}"
   ],
   "metadata": {
    "collapsed": false,
    "ExecuteTime": {
     "end_time": "2023-11-29T01:15:53.854821200Z",
     "start_time": "2023-11-29T01:15:53.827440500Z"
    }
   },
   "id": "d965de9d8e196271"
  },
  {
   "cell_type": "code",
   "execution_count": 166,
   "outputs": [],
   "source": [
    "test_groups2 = {\n",
    "    \"cold_user-match_topic\": {\"history_count\": range(1, 6), \"candidate_count\": range(5, 26), \"topic_matching\": 1},\n",
    "    \"non_cold_user-match_topic\": {\"history_count\": range(6, 26), \"candidate_count\": range(5, 26), \"topic_matching\": 1},\n",
    "    \"cold_user-not_match_topic\": {\"history_count\": range(1, 6), \"candidate_count\": range(5, 26), \"topic_matching\": 0},\n",
    "    \"non_cold_user-not_match_topic\": {\"history_count\": range(6, 26), \"candidate_count\": range(5, 26), \"topic_matching\": 0},\n",
    "}"
   ],
   "metadata": {
    "collapsed": false,
    "ExecuteTime": {
     "end_time": "2023-11-29T01:24:42.321811200Z",
     "start_time": "2023-11-29T01:24:42.302754900Z"
    }
   },
   "id": "ec5cb7d0fa2b9eb9"
  },
  {
   "cell_type": "code",
   "execution_count": 162,
   "outputs": [
    {
     "name": "stdout",
     "output_type": "stream",
     "text": [
      "cold_user_short_candidate_match_topic\n",
      "non_cold_user_short_candidate_match_topic\n",
      "cold_user_short_candidate_not_match_topic\n",
      "non_cold_user_short_candidate_not_match_topic\n",
      "cold_user_long_candidate_match_topic\n",
      "non_cold_user_long_candidate_match_topic\n",
      "cold_user_long_candidate_not_match_topic\n",
      "non_cold_user_long_candidate_not_match_topic\n"
     ]
    }
   ],
   "source": [
    "sample_cols = [\"impression_id\", \"history\", \"candidate\", \"label\", \"history_news_id\", \"history_title\", \"history_category\", \"history_subvert\", \"history_abstract\", \"candidate_news_id\", \"candidate_title\", \"candidate_category\", \"candidate_subvert\", \"candidate_abstract\"]\n",
    "max_num = 10\n",
    "for group_name, kwargs in test_groups1.items():\n",
    "    print(group_name)\n",
    "    group_df = sample_group_user(test_behavior, num_per_group, **kwargs)\n",
    "    group_df.fillna(\" \", inplace=True)\n",
    "    sample_group = []\n",
    "    cur_num = defaultdict(lambda : 0)\n",
    "    group_df = group_df.sort_values(by=[\"candidate_count\"])\n",
    "    for _, row in group_df.iterrows():\n",
    "        flag = 1\n",
    "        group_history, group_candidates, group_labels = get_history_candidate_info(row)\n",
    "        while flag:\n",
    "            flag2 = 0\n",
    "            for label in group_labels:\n",
    "                if cur_num[label] >= max_num:\n",
    "                    flag2 = 1\n",
    "                    break\n",
    "            if flag2:\n",
    "                group_history, group_candidates, group_labels = get_history_candidate_info(row, shuffle=True)\n",
    "            else:\n",
    "                for label in group_labels:\n",
    "                    cur_num[label] += 1\n",
    "                flag = 0\n",
    "        history_input = \"\\n\".join(f\"H{no+1}: {title}\" for no, title in enumerate(group_history[\"history_title\"]))\n",
    "        candidate_input = \"\\n\".join(f\"C{no+1}: {title}\" for no, title in enumerate(group_candidates[\"candidate_title\"]))\n",
    "        sample = [row[\"impression_id\"], history_input, candidate_input, \",\".join([f\"C{index+1}\" for index in group_labels])]\n",
    "        sample.extend([\"\\n\".join([v if isinstance(v, str) else \"\" for v in value]) for key, value in group_history.items()])\n",
    "        sample.extend([\"\\n\".join([v if isinstance(v, str) else \"\" for v in value]) for key, value in group_candidates.items()])\n",
    "        sample_group.append(sample)\n",
    "    sample_group = pd.DataFrame(sample_group, columns=sample_cols)\n",
    "    sample_group.to_csv(test_group_root + group_name + \".csv\", index=False)"
   ],
   "metadata": {
    "collapsed": false,
    "ExecuteTime": {
     "end_time": "2023-11-29T01:19:27.365740500Z",
     "start_time": "2023-11-29T01:16:07.608175100Z"
    }
   },
   "id": "db1de34703baaf80"
  },
  {
   "cell_type": "code",
   "execution_count": 168,
   "outputs": [],
   "source": [
    "variant1_dir = \"test_group/variant1/\"\n",
    "variant2_dir = \"test_group/variant2/\"\n",
    "\n",
    "for group_name, kwargs in test_groups2.items():\n",
    "    names = group_name.split(\"-\")\n",
    "    short_df = pd.read_csv(variant1_dir + f\"{names[0]}_short_candidate_{names[1]}\" + \".csv\")\n",
    "    short_df.to_csv(variant1_dir + f\"{names[0]}-short_candidate-{names[1]}\" + \".csv\", index=False)\n",
    "    long_df = pd.read_csv(variant1_dir + f\"{names[0]}_long_candidate_{names[1]}\" + \".csv\")\n",
    "    long_df.to_csv(variant1_dir + f\"{names[0]}-long_candidate-{names[1]}\" + \".csv\", index=False)\n",
    "    all_df = pd.concat([short_df, long_df])\n",
    "    all_df.sample(num_per_group).to_csv(variant2_dir + f\"{names[0]}-{names[1]}\" + \".csv\", index=False)\n",
    "            "
   ],
   "metadata": {
    "collapsed": false,
    "ExecuteTime": {
     "end_time": "2023-11-29T01:27:50.526213800Z",
     "start_time": "2023-11-29T01:27:50.322066Z"
    }
   },
   "id": "3dafccddf3ff9720"
  },
  {
   "cell_type": "code",
   "execution_count": 40,
   "outputs": [],
   "source": [
    "test_behavior = group_user(test_behavior, news_topic)"
   ],
   "metadata": {
    "collapsed": false,
    "ExecuteTime": {
     "end_time": "2023-11-28T18:43:59.612483400Z",
     "start_time": "2023-11-28T18:43:59.012912700Z"
    }
   },
   "id": "98b02c2bb04bfc7e"
  },
  {
   "cell_type": "code",
   "execution_count": 41,
   "outputs": [
    {
     "data": {
      "text/plain": "topic_matching\n1    28871\n0     7705\nName: count, dtype: int64"
     },
     "execution_count": 41,
     "metadata": {},
     "output_type": "execute_result"
    }
   ],
   "source": [
    "test_behavior.topic_matching.value_counts()"
   ],
   "metadata": {
    "collapsed": false,
    "ExecuteTime": {
     "end_time": "2023-11-28T18:44:01.212668100Z",
     "start_time": "2023-11-28T18:44:01.197789100Z"
    }
   },
   "id": "69bde5e5ce9ac6c3"
  },
  {
   "cell_type": "code",
   "execution_count": 46,
   "outputs": [
    {
     "data": {
      "text/plain": "history_count\n6      883\n9      815\n5      810\n7      804\n8      785\n      ... \n285      1\n286      1\n214      1\n434      1\n363      1\nName: count, Length: 279, dtype: int64"
     },
     "execution_count": 46,
     "metadata": {},
     "output_type": "execute_result"
    }
   ],
   "source": [
    "test_behavior[test_behavior.topic_matching == 1].history_count.value_counts()"
   ],
   "metadata": {
    "collapsed": false,
    "ExecuteTime": {
     "end_time": "2023-11-28T18:48:27.821475600Z",
     "start_time": "2023-11-28T18:48:27.787979500Z"
    }
   },
   "id": "18d4f5b2366ad787"
  },
  {
   "cell_type": "code",
   "execution_count": 42,
   "outputs": [
    {
     "data": {
      "text/plain": "history_count\n0      1117\n3       663\n4       623\n2       546\n5       519\n       ... \n92        1\n96        1\n119       1\n108       1\n76        1\nName: count, Length: 109, dtype: int64"
     },
     "execution_count": 42,
     "metadata": {},
     "output_type": "execute_result"
    }
   ],
   "source": [
    "test_behavior[test_behavior.topic_matching == 0].history_count.value_counts()"
   ],
   "metadata": {
    "collapsed": false,
    "ExecuteTime": {
     "end_time": "2023-11-28T18:46:56.120607900Z",
     "start_time": "2023-11-28T18:46:56.104305800Z"
    }
   },
   "id": "a7fb295eaa9793eb"
  },
  {
   "cell_type": "code",
   "execution_count": 17,
   "outputs": [
    {
     "data": {
      "text/plain": "history_count\n4      1354\n6      1333\n5      1329\n3      1301\n7      1196\n       ... \n285       1\n286       1\n214       1\n434       1\n363       1\nName: count, Length: 280, dtype: int64"
     },
     "execution_count": 17,
     "metadata": {},
     "output_type": "execute_result"
    }
   ],
   "source": [
    "test_behavior.history_count.value_counts()"
   ],
   "metadata": {
    "collapsed": false,
    "ExecuteTime": {
     "end_time": "2023-11-28T18:02:29.372917400Z",
     "start_time": "2023-11-28T18:02:29.355946Z"
    }
   },
   "id": "dc87443ad49aeef7"
  },
  {
   "cell_type": "code",
   "execution_count": 32,
   "outputs": [
    {
     "data": {
      "text/plain": "candidate_count\n7      2038\n2      1929\n11     1299\n10     1217\n5      1125\n       ... \n257       1\n285       1\n293       1\n199       1\n249       1\nName: count, Length: 283, dtype: int64"
     },
     "execution_count": 32,
     "metadata": {},
     "output_type": "execute_result"
    }
   ],
   "source": [
    "test_behavior.candidate_count.value_counts()"
   ],
   "metadata": {
    "collapsed": false,
    "ExecuteTime": {
     "end_time": "2023-11-28T18:22:45.034449500Z",
     "start_time": "2023-11-28T18:22:45.012314600Z"
    }
   },
   "id": "a7fe14d8c86b9ea4"
  },
  {
   "cell_type": "code",
   "execution_count": 18,
   "outputs": [
    {
     "name": "stdout",
     "output_type": "stream",
     "text": [
      "Fresh user:  0.03053915135608049\n"
     ]
    }
   ],
   "source": [
    "fresh_user_ratio = len(test_behavior[test_behavior.history_count == 0]) / len(test_behavior)\n",
    "print(\"Fresh user: \", fresh_user_ratio)"
   ],
   "metadata": {
    "collapsed": false,
    "ExecuteTime": {
     "end_time": "2023-11-28T18:03:27.930686100Z",
     "start_time": "2023-11-28T18:03:27.905396500Z"
    }
   },
   "id": "97a7eacb90adc6fb"
  },
  {
   "cell_type": "code",
   "execution_count": 20,
   "outputs": [
    {
     "name": "stdout",
     "output_type": "stream",
     "text": [
      "Cold user:  0.17806758530183728\n"
     ]
    }
   ],
   "source": [
    "cold_num = 5\n",
    "cold_user_ratio = len(test_behavior[test_behavior.history_count <= cold_num]) / len(test_behavior)\n",
    "print(\"Cold user: \", cold_user_ratio)"
   ],
   "metadata": {
    "collapsed": false,
    "ExecuteTime": {
     "end_time": "2023-11-28T18:04:16.454346100Z",
     "start_time": "2023-11-28T18:04:16.446945600Z"
    }
   },
   "id": "b0e54839311c7bc"
  },
  {
   "cell_type": "code",
   "execution_count": 21,
   "outputs": [
    {
     "name": "stdout",
     "output_type": "stream",
     "text": [
      "Short candidate:  0.25229658792650916\n"
     ]
    }
   ],
   "source": [
    "short_candidate_ratio = len(test_behavior[test_behavior.candidate_count <= 10]) / len(test_behavior)\n",
    "print(\"Short candidate: \", short_candidate_ratio)"
   ],
   "metadata": {
    "collapsed": false,
    "ExecuteTime": {
     "end_time": "2023-11-28T18:09:53.324031Z",
     "start_time": "2023-11-28T18:09:53.298752500Z"
    }
   },
   "id": "fc5b906542ebb5a6"
  },
  {
   "cell_type": "code",
   "execution_count": 43,
   "outputs": [],
   "source": [
    "gpt_4_1000_result = pd.read_csv(\"generated_data/old/sampled_1000_gpt-4.csv\")"
   ],
   "metadata": {
    "collapsed": false,
    "ExecuteTime": {
     "end_time": "2023-11-28T18:47:58.520647500Z",
     "start_time": "2023-11-28T18:47:58.472364400Z"
    }
   },
   "id": "b152c65f3d061f41"
  },
  {
   "cell_type": "code",
   "execution_count": 44,
   "outputs": [],
   "source": [
    "def stat_df(df):\n",
    "    df[\"history_count\"] = df[\"history\"].apply(lambda x: len(x.split(\"\\n\")) if x != \" \" else 0)\n",
    "    df[\"candidate_count\"] = df[\"candidate\"].apply(lambda x: len(x.split(\"\\n\")) if x != \" \" else 0)\n",
    "    return df\n",
    "gpt_4_1000_result = stat_df(gpt_4_1000_result)"
   ],
   "metadata": {
    "collapsed": false,
    "ExecuteTime": {
     "end_time": "2023-11-28T18:47:59.196662700Z",
     "start_time": "2023-11-28T18:47:59.180190900Z"
    }
   },
   "id": "550d263af94662a0"
  },
  {
   "cell_type": "code",
   "execution_count": 77,
   "outputs": [],
   "source": [
    "def result_stat(df, history_num, short_candidate_num):\n",
    "    print(\"Number of Cold user and short candidate:\", len(df[(df.history_count <= history_num) & (df.candidate_count <= short_candidate_num)]))\n",
    "    print(\"Number of Cold user and long candidate:\", len(df[(df.history_count <= history_num) & (df.candidate_count > short_candidate_num)]))\n",
    "    print(\"Number of Non-cold user and short candidate:\", len(df[(df.history_count > history_num) & (df.candidate_count <= short_candidate_num)]))\n",
    "    print(\"Number of Non-cold user and long candidate:\", len(df[(df.history_count > history_num) & (df.candidate_count > short_candidate_num)]))\n",
    "    print(\"#Short candidate: \", len(df[df.candidate_count <= short_candidate_num]) / len(df))\n",
    "    mrr = {\"cold_user\": df[df.history_count <= history_num][\"MRR\"].mean().round(3),\n",
    "           \"non_cold_user\": df[df.history_count > history_num][\"MRR\"].mean().round(3),\n",
    "           \"short_candidate\": df[df.candidate_count <= short_candidate_num][\"MRR\"].mean().round(3),\n",
    "           \"long_candidate\": df[df.candidate_count > short_candidate_num][\"MRR\"].mean().round(3),\n",
    "           \"cold_user_short_candidate\": df[(df.history_count <= history_num) & (df.candidate_count <= short_candidate_num)][\"MRR\"].mean().round(3),\n",
    "           \"cold_user_long_candidate\": df[(df.history_count <= history_num) & (df.candidate_count > short_candidate_num)][\"MRR\"].mean().round(3),\n",
    "           \"non_cold_user_short_candidate\": df[(df.history_count > history_num) & (df.candidate_count <= short_candidate_num)][\"MRR\"].mean().round(3),\n",
    "           \"non_cold_user_long_candidate\": df[(df.history_count > history_num) & (df.candidate_count > short_candidate_num)][\"MRR\"].mean().round(3)}\n",
    "    return mrr"
   ],
   "metadata": {
    "collapsed": false,
    "ExecuteTime": {
     "end_time": "2023-11-28T19:26:32.021004Z",
     "start_time": "2023-11-28T19:26:32.005198Z"
    }
   },
   "id": "7d0cd992059d7dfc"
  },
  {
   "cell_type": "code",
   "execution_count": 78,
   "outputs": [
    {
     "name": "stdout",
     "output_type": "stream",
     "text": [
      "Number of Cold user and short candidate: 50\n",
      "Number of Cold user and long candidate: 112\n",
      "Number of Non-cold user and short candidate: 203\n",
      "Number of Non-cold user and long candidate: 635\n",
      "#Short candidate:  0.253\n",
      "GPT-4 1000 sampled result:  {'cold_user': 0.289, 'non_cold_user': 0.312, 'short_candidate': 0.56, 'long_candidate': 0.223, 'cold_user_short_candidate': 0.493, 'cold_user_long_candidate': 0.198, 'non_cold_user_short_candidate': 0.577, 'non_cold_user_long_candidate': 0.227}\n"
     ]
    }
   ],
   "source": [
    "max_candidate_num = 10\n",
    "max_history_num = 5\n",
    "print(\"GPT-4 1000 sampled result: \", result_stat(gpt_4_1000_result, max_history_num, max_candidate_num))"
   ],
   "metadata": {
    "collapsed": false,
    "ExecuteTime": {
     "end_time": "2023-11-28T19:26:32.354693200Z",
     "start_time": "2023-11-28T19:26:32.327713700Z"
    }
   },
   "id": "4bae3ccb64bd321b"
  },
  {
   "cell_type": "code",
   "execution_count": 80,
   "outputs": [
    {
     "name": "stdout",
     "output_type": "stream",
     "text": [
      "Number of Cold user and short candidate: 50\n",
      "Number of Cold user and long candidate: 112\n",
      "Number of Non-cold user and short candidate: 203\n",
      "Number of Non-cold user and long candidate: 635\n",
      "#Short candidate:  0.253\n",
      "GPT-3.5 1000 sampled result:  {'cold_user': 0.281, 'non_cold_user': 0.262, 'short_candidate': 0.521, 'long_candidate': 0.178, 'cold_user_short_candidate': 0.523, 'cold_user_long_candidate': 0.173, 'non_cold_user_short_candidate': 0.521, 'non_cold_user_long_candidate': 0.179}\n"
     ]
    }
   ],
   "source": [
    "gpt_3_5_1000_t4_result = pd.read_csv(\"generated_data/template-4_gpt-3.5-turbo_order_temperature-0.csv\")\n",
    "gpt_3_5_1000_t4_result.rename(columns={\"mean_mrr\": \"MRR\"}, inplace=True)\n",
    "print(\"GPT-3.5 1000 sampled result: \", result_stat(stat_df(gpt_3_5_1000_t4_result), max_history_num, max_candidate_num))"
   ],
   "metadata": {
    "collapsed": false,
    "ExecuteTime": {
     "end_time": "2023-11-28T19:31:55.079285600Z",
     "start_time": "2023-11-28T19:31:55.006188200Z"
    }
   },
   "id": "24618e6d527b4885"
  },
  {
   "cell_type": "code",
   "execution_count": 81,
   "outputs": [
    {
     "name": "stdout",
     "output_type": "stream",
     "text": [
      "Number of Cold user and short candidate: 50\n",
      "Number of Cold user and long candidate: 112\n",
      "Number of Non-cold user and short candidate: 203\n",
      "Number of Non-cold user and long candidate: 635\n",
      "#Short candidate:  0.253\n",
      "GPT-3.5 1000 sampled result:  {'cold_user': 0.229, 'non_cold_user': 0.224, 'short_candidate': 0.408, 'long_candidate': 0.169, 'cold_user_short_candidate': 0.467, 'cold_user_long_candidate': 0.144, 'non_cold_user_short_candidate': 0.397, 'non_cold_user_long_candidate': 0.173}\n"
     ]
    }
   ],
   "source": [
    "gpt_3_5_1000_result = pd.read_csv(\"generated_data/old/sampled_1000_gpt-3.5-turbo.csv\")\n",
    "gpt_3_5_1000_result.rename(columns={\"mean_mrr\": \"MRR\"}, inplace=True)\n",
    "print(\"GPT-3.5 1000 sampled result: \", result_stat(stat_df(gpt_3_5_1000_result), max_history_num, max_candidate_num))"
   ],
   "metadata": {
    "collapsed": false,
    "ExecuteTime": {
     "end_time": "2023-11-28T19:35:31.041305100Z",
     "start_time": "2023-11-28T19:35:30.968733200Z"
    }
   },
   "id": "1dd532b0b4a516d4"
  },
  {
   "cell_type": "code",
   "execution_count": null,
   "outputs": [],
   "source": [],
   "metadata": {
    "collapsed": false
   },
   "id": "16ce11b035eaf4c7"
  }
 ],
 "metadata": {
  "kernelspec": {
   "display_name": "Python 3",
   "language": "python",
   "name": "python3"
  },
  "language_info": {
   "codemirror_mode": {
    "name": "ipython",
    "version": 2
   },
   "file_extension": ".py",
   "mimetype": "text/x-python",
   "name": "python",
   "nbconvert_exporter": "python",
   "pygments_lexer": "ipython2",
   "version": "2.7.6"
  }
 },
 "nbformat": 4,
 "nbformat_minor": 5
}
