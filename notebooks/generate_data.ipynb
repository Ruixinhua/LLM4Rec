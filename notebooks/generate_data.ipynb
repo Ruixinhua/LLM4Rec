{
 "cells": [
  {
   "cell_type": "code",
   "execution_count": 18,
   "id": "initial_id",
   "metadata": {
    "collapsed": true,
    "ExecuteTime": {
     "end_time": "2023-10-04T19:01:57.128482600Z",
     "start_time": "2023-10-04T19:01:57.065497700Z"
    }
   },
   "outputs": [],
   "source": [
    "import openai\n",
    "import time\n",
    "import random\n",
    "import numpy as np\n",
    "import pandas as pd\n",
    "from common import load_api_key\n",
    "from pathlib import Path\n"
   ]
  },
  {
   "cell_type": "code",
   "execution_count": 2,
   "outputs": [],
   "source": [
    "api_key = load_api_key()\n",
    "openai.api_key = api_key"
   ],
   "metadata": {
    "collapsed": false,
    "ExecuteTime": {
     "end_time": "2023-10-04T18:14:08.870119500Z",
     "start_time": "2023-10-04T18:14:08.854890Z"
    }
   },
   "id": "64cd62169fd76534"
  },
  {
   "cell_type": "code",
   "execution_count": 3,
   "outputs": [],
   "source": [
    "news_df = pd.read_csv(r\"C:\\Users\\Rui\\Documents\\Explainable_AI\\ExplainableNRS\\dataset\\MIND\\small\\news.csv\")"
   ],
   "metadata": {
    "collapsed": false,
    "ExecuteTime": {
     "end_time": "2023-10-04T18:14:11.058218500Z",
     "start_time": "2023-10-04T18:14:08.870119500Z"
    }
   },
   "id": "6ddb25cb43eaa519"
  },
  {
   "cell_type": "code",
   "execution_count": 6,
   "outputs": [],
   "source": [
    "sampled_df = pd.read_csv(\"sampled_100.csv\")"
   ],
   "metadata": {
    "collapsed": false,
    "ExecuteTime": {
     "end_time": "2023-10-04T18:18:28.671062900Z",
     "start_time": "2023-10-04T18:18:28.655065100Z"
    }
   },
   "id": "e863d10a3514014f"
  },
  {
   "cell_type": "code",
   "execution_count": 25,
   "outputs": [],
   "source": [
    "def generate_correct_random_predictions(candidate_col):\n",
    "    \"\"\"Generate random recommendations based on the candidate column with correct format.\"\"\"\n",
    "    return candidate_col.apply(\n",
    "        lambda x: ','.join([f\"C{item + 1}\" for item in random.sample(range(len(x.split(\"\\n\"))), len(x.split(\"\\n\")))])\n",
    "    )\n"
   ],
   "metadata": {
    "collapsed": false,
    "ExecuteTime": {
     "end_time": "2023-10-04T19:07:12.230533100Z",
     "start_time": "2023-10-04T19:07:12.171507800Z"
    }
   },
   "id": "15b6b826f58b7902"
  },
  {
   "cell_type": "code",
   "execution_count": 41,
   "outputs": [
    {
     "data": {
      "text/plain": "    Metric  Random Predictions   GPT-3.5     GPT-4\n0   nDCG@5            0.222190  0.210149  0.413043\n1  nDCG@10            0.302553  0.284718  0.455982\n2      MRR            0.259391  0.196758  0.382063",
      "text/html": "<div>\n<style scoped>\n    .dataframe tbody tr th:only-of-type {\n        vertical-align: middle;\n    }\n\n    .dataframe tbody tr th {\n        vertical-align: top;\n    }\n\n    .dataframe thead th {\n        text-align: right;\n    }\n</style>\n<table border=\"1\" class=\"dataframe\">\n  <thead>\n    <tr style=\"text-align: right;\">\n      <th></th>\n      <th>Metric</th>\n      <th>Random Predictions</th>\n      <th>GPT-3.5</th>\n      <th>GPT-4</th>\n    </tr>\n  </thead>\n  <tbody>\n    <tr>\n      <th>0</th>\n      <td>nDCG@5</td>\n      <td>0.222190</td>\n      <td>0.210149</td>\n      <td>0.413043</td>\n    </tr>\n    <tr>\n      <th>1</th>\n      <td>nDCG@10</td>\n      <td>0.302553</td>\n      <td>0.284718</td>\n      <td>0.455982</td>\n    </tr>\n    <tr>\n      <th>2</th>\n      <td>MRR</td>\n      <td>0.259391</td>\n      <td>0.196758</td>\n      <td>0.382063</td>\n    </tr>\n  </tbody>\n</table>\n</div>"
     },
     "execution_count": 41,
     "metadata": {},
     "output_type": "execute_result"
    }
   ],
   "source": [],
   "metadata": {
    "collapsed": false,
    "ExecuteTime": {
     "end_time": "2023-10-04T19:32:42.760437Z",
     "start_time": "2023-10-04T19:32:42.705456700Z"
    }
   },
   "id": "a7ffbf5d1d46bf57"
  },
  {
   "cell_type": "code",
   "execution_count": null,
   "outputs": [],
   "source": [
    "#!/bin/bash -l\n",
    "model_name=models/chat-bison-001\n",
    "sample_num=100\n",
    "max_num=1\n",
    "prompt_temp=naive_zero_shot\n",
    "python request_api.py --model_name=$model_name --sample_num=$sample_num --max_num=$max_num --prompt_temp=$prompt_temp"
   ],
   "metadata": {
    "collapsed": false
   },
   "id": "b384fe84ceaa3e4"
  }
 ],
 "metadata": {
  "kernelspec": {
   "display_name": "Python 3",
   "language": "python",
   "name": "python3"
  },
  "language_info": {
   "codemirror_mode": {
    "name": "ipython",
    "version": 2
   },
   "file_extension": ".py",
   "mimetype": "text/x-python",
   "name": "python",
   "nbconvert_exporter": "python",
   "pygments_lexer": "ipython2",
   "version": "2.7.6"
  }
 },
 "nbformat": 4,
 "nbformat_minor": 5
}
